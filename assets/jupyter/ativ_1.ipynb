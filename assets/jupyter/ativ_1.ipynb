{
 "cells": [
  {
   "cell_type": "markdown",
   "source": [
    "# [CDAF] Exercise 1"
   ],
   "metadata": {
    "collapsed": false
   }
  },
  {
   "cell_type": "markdown",
   "source": [
    "## Name\n",
    "Name: XXXXXXXXXXXXXXXX"
   ],
   "metadata": {
    "collapsed": false
   }
  },
  {
   "cell_type": "markdown",
   "source": [
    "## References\n",
    "- [1] https://sites.google.com/view/2023soccerpredictionchallenge/home?authuser=0\n",
    "- [2] https://drive.google.com/drive/folders/1IV6Du7GIJxpG6Ti5gZ7eMzUDNfSivtdd?usp=sharing\n",
    "- [3] https://soccermatics.readthedocs.io/en/latest/gallery/lesson5/plot_SimulateMatches.html"
   ],
   "metadata": {
    "collapsed": false
   }
  },
  {
   "cell_type": "markdown",
   "source": [
    "## Introduction\n",
    "In this activity, we will review the concepts learned in the classroom about randomness and forecasting, working on the Soccer Prediction Challenge[1] dataset[2]."
   ],
   "metadata": {
    "collapsed": false
   }
  },
  {
   "cell_type": "markdown",
   "source": [
    "## Question 1\n",
    "- Load the 'TrainingSet_2023_02_08' dataset\n",
    "- Create a histogram for the number of goals scored per game by the home team, the away team, total goals, and the goal difference per match.\n",
    "- If there are instances with clearly incorrect values, highlight them and remove them before generating the histograms.\n",
    "- Calculate the minimum, maximum, and average of each of the 4 histograms requested above."
   ],
   "metadata": {
    "collapsed": false
   }
  },
  {
   "cell_type": "code",
   "execution_count": null,
   "outputs": [],
   "source": [],
   "metadata": {
    "collapsed": false
   }
  },
  {
   "cell_type": "markdown",
   "source": [
    "## Question 2\n",
    "- Choose a season that has already ended, from any of the leagues present in the dataset.\n",
    "- Perform the same histograms as in question 1, but now for the chosen season.\n",
    "- What are the differences between the histograms of question 1 and question 2? What might this indicate about the offensive quality of the chosen league vs. the whole?"
   ],
   "metadata": {
    "collapsed": false
   }
  },
  {
   "cell_type": "code",
   "execution_count": null,
   "outputs": [],
   "source": [],
   "metadata": {
    "collapsed": false
   }
  },
  {
   "cell_type": "markdown",
   "source": [
    "## Question 3\n",
    "- From the data of the selected championship, create a dataframe that corresponds to the league table at the end of the season containing the names of the teams, number of points, games, wins, draws, losses, goals scored, goals against, and goal difference. Order the league table by points, wins, goal difference, and goals scored.\n",
    "- Do the same only for the first half of the games."
   ],
   "metadata": {
    "collapsed": false
   }
  },
  {
   "cell_type": "code",
   "execution_count": null,
   "outputs": [],
   "source": [],
   "metadata": {
    "collapsed": false
   }
  },
  {
   "cell_type": "markdown",
   "source": [
    "## Question 4\n",
    "- Using the games from the chosen league, use Poisson regression to create a forecast model for the results, as seen in the classroom slides and in Soccermatics[3].\n",
    "- Print the summary of the adjustment\n",
    "- Simulate the match between the 1st and 4th placed team, where the 1st plays at home. First, present the expected number of goals for each team. Then, present a histogram with the probability of different scores between the teams."
   ],
   "metadata": {
    "collapsed": false
   }
  },
  {
   "cell_type": "code",
   "execution_count": null,
   "outputs": [],
   "source": [],
   "metadata": {
    "collapsed": false
   }
  },
  {
   "cell_type": "markdown",
   "source": [
    "## Question 5\n",
    "- Use the trained model to simulate the expected scores of all the season's games.\n",
    "- Construct a league table based on the expected results. Consider that games with an expected goal difference < 0.5 is a draw.\n",
    "- Compare the real table with the simulated one. Where are the main differences between them? And similarities? What might this indicate in terms of what the model underestimates and overestimates about the quality of the teams?"
   ],
   "metadata": {
    "collapsed": false
   }
  },
  {
   "cell_type": "code",
   "execution_count": null,
   "outputs": [],
   "source": [],
   "metadata": {
    "collapsed": false
   }
  }
 ],
 "metadata": {
  "kernelspec": {
   "display_name": "Python 3",
   "language": "python",
   "name": "python3"
  },
  "language_info": {
   "codemirror_mode": {
    "name": "ipython",
    "version": 2
   },
   "file_extension": ".py",
   "mimetype": "text/x-python",
   "name": "python",
   "nbconvert_exporter": "python",
   "pygments_lexer": "ipython2",
   "version": "2.7.6"
  }
 },
 "nbformat": 4,
 "nbformat_minor": 0
}
