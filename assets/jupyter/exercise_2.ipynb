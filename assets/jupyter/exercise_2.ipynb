{
 "cells": [
  {
   "cell_type": "markdown",
   "source": [
    "# [CDAF] Atividade 2"
   ],
   "metadata": {
    "collapsed": false
   }
  },
  {
   "cell_type": "markdown",
   "source": [
    "## Name\n",
    "Name: XXXXXXXXXXXXXXXX"
   ],
   "metadata": {
    "collapsed": false
   }
  },
  {
   "cell_type": "markdown",
   "source": [
    "## References\n",
    "- [1] https://fbref.com/en/comps/24/2022/schedule/2022-Serie-A-Scores-and-Fixtures\n",
    "- [2] https://fbref.com/en/comps/24/2022/stats/2022-Serie-A-Stats\n",
    "- [3] https://soccermatics.readthedocs.io/en/latest/lesson3/ScoutingPlayers.html\n",
    "- [4] https://soccermatics.readthedocs.io/en/latest/gallery/lesson3/plot_RadarPlot.html"
   ],
   "metadata": {
    "collapsed": false
   }
  },
  {
   "cell_type": "markdown",
   "source": [
    "## Introduction\n",
    "In this activity, we will review the concepts learned in the classroom about aggregated statistics. For this activity, we will use data from the 2022 Brasileirão from FBRef."
   ],
   "metadata": {
    "collapsed": false
   }
  },
  {
   "cell_type": "markdown",
   "source": [
    "## Question 1\n",
    "- Download the results dataset at [1].\n",
    "- Create a 5-game moving average, for each team, of each of the following statistics: xG for, xG against, and xG difference.\n",
    "- Choose 4 teams to view the time series of the above statistics. One visualization for each of the statistics, where the overall average of the championship is presented with a dashed line together with the moving average of the chosen teams.\n",
    "- Interpret the results. What might this indicate about the offensive and defensive quality of the chosen teams?"
   ],
   "metadata": {
    "collapsed": false
   }
  },
  {
   "cell_type": "code",
   "execution_count": null,
   "outputs": [],
   "source": [],
   "metadata": {
    "collapsed": false
   }
  },
  {
   "cell_type": "markdown",
   "source": [
    "## Question 2\n",
    "- Now repeat question 1, plotting the time series of the same teams, but for a moving window of 10 games.\n",
    "- What are the differences between the time series of 5 and 10 games? In what situations could it be advantageous to choose one window over the other?"
   ],
   "metadata": {
    "collapsed": false
   }
  },
  {
   "cell_type": "code",
   "execution_count": null,
   "outputs": [],
   "source": [],
   "metadata": {
    "collapsed": false
   }
  },
  {
   "cell_type": "markdown",
   "source": [
    "## Question 3\n",
    "- Go to the link in [2]\n",
    "- In this statistics section, you can navigate through specific statistics for different aspects of the game (shooting, passing, defense, etc.). For all exercises from this point on, you will need to select those that you deem most relevant to answer the questions.\n",
    "- Create a radar plot [3][4] with 6 relevant attributes for attackers and compare 3 players of your choice. Justify the choice of each of the attributes, the choice of the scale of the radars, and the type of normalization. Interpret the results of the radars in terms of the qualities and limitations of the players."
   ],
   "metadata": {
    "collapsed": false
   }
  },
  {
   "cell_type": "code",
   "execution_count": null,
   "outputs": [],
   "source": [],
   "metadata": {
    "collapsed": false
   }
  },
  {
   "cell_type": "markdown",
   "source": [
    "## Question 4\n",
    "- Do the same as in question 3, but for midfielders."
   ],
   "metadata": {
    "collapsed": false
   }
  },
  {
   "cell_type": "code",
   "execution_count": null,
   "outputs": [],
   "source": [],
   "metadata": {
    "collapsed": false
   }
  },
  {
   "cell_type": "markdown",
   "source": [
    "## Question 5\n",
    "- Do the same as in question 3, but for defenders."
   ],
   "metadata": {
    "collapsed": false
   }
  },
  {
   "cell_type": "code",
   "execution_count": null,
   "outputs": [],
   "source": [],
   "metadata": {
    "collapsed": false
   }
  },
  {
   "cell_type": "markdown",
   "source": [
    "## Question 6\n",
    "- Discuss the differences between the radars of questions 3, 4, and 5. What are the main differences between the relevant attributes for each position? What are the main similarities? Did the subjective impression you had of the players prove to be true from the radars? If not, why? Which positions were more difficult to evaluate by statistics?"
   ],
   "metadata": {
    "collapsed": false
   }
  }
 ],
 "metadata": {
  "kernelspec": {
   "display_name": "Python 3",
   "language": "python",
   "name": "python3"
  },
  "language_info": {
   "codemirror_mode": {
    "name": "ipython",
    "version": 2
   },
   "file_extension": ".py",
   "mimetype": "text/x-python",
   "name": "python",
   "nbconvert_exporter": "python",
   "pygments_lexer": "ipython2",
   "version": "2.7.6"
  }
 },
 "nbformat": 4,
 "nbformat_minor": 0
}
